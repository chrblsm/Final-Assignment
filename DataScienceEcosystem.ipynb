{
 "cells": [
  {
   "cell_type": "markdown",
   "id": "b9be1b69-2b15-4637-9faa-5c25d6586518",
   "metadata": {},
   "source": [
    "# Data Science Tools and Ecosystem"
   ]
  },
  {
   "cell_type": "markdown",
   "id": "1fca5c1b-cb18-4556-bccf-baff0c450dec",
   "metadata": {},
   "source": [
    "### In this notebook, Data Science Tools and Ecosystem are summarized."
   ]
  },
  {
   "cell_type": "markdown",
   "id": "c9ee1fae-c2b8-403a-a934-bdc79a657d8b",
   "metadata": {},
   "source": [
    "**Objectives:**\n",
    "* List popular languages for Data Science\n",
    "* List of the commonly used libraries for Data Science\n",
    "* Commonly used Data Science Tools\n",
    "* List of the evaluating arithmetic expressions in Python"
   ]
  },
  {
   "cell_type": "markdown",
   "id": "4305960f-4abf-4816-b0f2-fe1c5298015b",
   "metadata": {},
   "source": [
    "#### Some of the popular languages that Data Scientists use are:\n",
    "1. Python\n",
    "2. R\n",
    "3. SQL"
   ]
  },
  {
   "cell_type": "markdown",
   "id": "bfaf82f0-1475-44f7-88b1-9c2960a35468",
   "metadata": {},
   "source": [
    "#### Some of the commonly used libraries used by Data Scientists include:\n",
    "1. Pandas\n",
    "2. NumPy\n",
    "3. Matplotlib\n",
    "4. Seaborn"
   ]
  },
  {
   "cell_type": "markdown",
   "id": "645aaf78-81bd-4dc6-bf56-b494977b2f69",
   "metadata": {},
   "source": [
    "| Data Science Tools |\n",
    "| :---------------- |\n",
    "| Jupyter Labs |\n",
    "| RStudio |\n",
    "| GitHub |"
   ]
  },
  {
   "cell_type": "markdown",
   "id": "085ff20a-57a2-474f-8c25-6c3f935c005c",
   "metadata": {},
   "source": [
    "### Below are a few examples of evaluating arithmetic expressions in Python.\n",
    "\n",
    "1. Addition [ + ]\n",
    "2. Subtraction [ - ]\n",
    "3. Multiplication [ * ]\n",
    "4. Division [ / ]\n",
    "5. Integer Division [ // ]\n",
    "6. Modulo [ % ]\n",
    "7. Exponentation [ ** ]"
   ]
  },
  {
   "cell_type": "code",
   "execution_count": 2,
   "id": "d48a98ff-1029-4335-b7f4-90baf5145a4b",
   "metadata": {},
   "outputs": [
    {
     "name": "stdout",
     "output_type": "stream",
     "text": [
      "17\n"
     ]
    }
   ],
   "source": [
    "#This a simple arithmetic expression to mutiply then add integers\n",
    "\n",
    "print((3*4)+5)"
   ]
  },
  {
   "cell_type": "code",
   "execution_count": 3,
   "id": "e00fb58e-6bd6-4141-9945-a864ac6d48ec",
   "metadata": {},
   "outputs": [
    {
     "name": "stdout",
     "output_type": "stream",
     "text": [
      "3.3333333333333335\n"
     ]
    }
   ],
   "source": [
    "#This will convert 200 minutes to hours by diving by 60\n",
    "\n",
    "minutes=200\n",
    "hours=minutes/60\n",
    "print(hours)\n"
   ]
  },
  {
   "cell_type": "markdown",
   "id": "50cfa244-a6ed-4d6d-a8f5-23aa35f5602b",
   "metadata": {},
   "source": [
    "## Author\n",
    "Dalila Baibolatova"
   ]
  }
 ],
 "metadata": {
  "kernelspec": {
   "display_name": "Python [conda env:base] *",
   "language": "python",
   "name": "conda-base-py"
  },
  "language_info": {
   "codemirror_mode": {
    "name": "ipython",
    "version": 3
   },
   "file_extension": ".py",
   "mimetype": "text/x-python",
   "name": "python",
   "nbconvert_exporter": "python",
   "pygments_lexer": "ipython3",
   "version": "3.12.2"
  }
 },
 "nbformat": 4,
 "nbformat_minor": 5
}
